{
  "nbformat": 4,
  "nbformat_minor": 0,
  "metadata": {
    "colab": {
      "name": "mlp_univariateWeatherForecasting.ipynb",
      "provenance": [],
      "authorship_tag": "ABX9TyOddoj7vfRUly3whYK1dlXV",
      "include_colab_link": true
    },
    "kernelspec": {
      "name": "python3",
      "display_name": "Python 3"
    }
  },
  "cells": [
    {
      "cell_type": "markdown",
      "metadata": {
        "id": "view-in-github",
        "colab_type": "text"
      },
      "source": [
        "<a href=\"https://colab.research.google.com/github/BryanMed/Sequences-Time-Series-and-Prediction/blob/master/mlp_univariateWeatherForecasting.ipynb\" target=\"_parent\"><img src=\"https://colab.research.google.com/assets/colab-badge.svg\" alt=\"Open In Colab\"/></a>"
      ]
    },
    {
      "cell_type": "markdown",
      "metadata": {
        "id": "sZ-Hl2pUOYOd",
        "colab_type": "text"
      },
      "source": [
        "# Multilayer perceptron in time series (univariate) forecasting\n",
        "Dado que aún estoy aprendiendo acerca del forecasting en series temporales, traté de utilizar el [ejemplo propuesto por tensorflow](https://www.tensorflow.org/tutorials/structured_data/time_series?hl=es_419), sin embargo, la manera en la que preparan los datos para alimentar la red me pareció un poco complicado, así que apliqué mis conocimientos adquiridos en el curso que estoy realizando. Por ello, en lugar de usar una red LSTM (y para variarle), usaré una multilayer perceptron."
      ]
    },
    {
      "cell_type": "code",
      "metadata": {
        "id": "sJEEVxHaOXBU",
        "colab_type": "code",
        "colab": {}
      },
      "source": [
        "! pip install tf-nightly-2.0-preview"
      ],
      "execution_count": 0,
      "outputs": []
    },
    {
      "cell_type": "code",
      "metadata": {
        "id": "LKcaDScyUJbk",
        "colab_type": "code",
        "colab": {}
      },
      "source": [
        "import matplotlib.pyplot as plt\n",
        "import numpy as np\n",
        "import pandas as pd\n",
        "import tensorflow as tf\n",
        "import os"
      ],
      "execution_count": 0,
      "outputs": []
    },
    {
      "cell_type": "markdown",
      "metadata": {
        "id": "oJVadSBO_yc1",
        "colab_type": "text"
      },
      "source": [
        "Datos de las condiciones climáticas del 2009 al 2016"
      ]
    },
    {
      "cell_type": "code",
      "metadata": {
        "id": "tnpxzu4cU3dU",
        "colab_type": "code",
        "colab": {}
      },
      "source": [
        "zip_path = tf.keras.utils.get_file(\n",
        "  origin='https://storage.googleapis.com/tensorflow/tf-keras-datasets/jena_climate_2009_2016.csv.zip',\n",
        "  fname='jena_climate_2009_2016.csv.zip',\n",
        "  extract=True)\n",
        "\n",
        "csv_path, _ = os.path.splitext(zip_path)"
      ],
      "execution_count": 0,
      "outputs": []
    },
    {
      "cell_type": "code",
      "metadata": {
        "id": "NqgY6WJPVBd5",
        "colab_type": "code",
        "colab": {
          "base_uri": "https://localhost:8080/",
          "height": 333
        },
        "outputId": "3a1217bd-4c0a-4ad6-e51b-733ce5a63326"
      },
      "source": [
        "df = pd.read_csv(csv_path)\n",
        "df.head()"
      ],
      "execution_count": 6,
      "outputs": [
        {
          "output_type": "execute_result",
          "data": {
            "text/html": [
              "<div>\n",
              "<style scoped>\n",
              "    .dataframe tbody tr th:only-of-type {\n",
              "        vertical-align: middle;\n",
              "    }\n",
              "\n",
              "    .dataframe tbody tr th {\n",
              "        vertical-align: top;\n",
              "    }\n",
              "\n",
              "    .dataframe thead th {\n",
              "        text-align: right;\n",
              "    }\n",
              "</style>\n",
              "<table border=\"1\" class=\"dataframe\">\n",
              "  <thead>\n",
              "    <tr style=\"text-align: right;\">\n",
              "      <th></th>\n",
              "      <th>Date Time</th>\n",
              "      <th>p (mbar)</th>\n",
              "      <th>T (degC)</th>\n",
              "      <th>Tpot (K)</th>\n",
              "      <th>Tdew (degC)</th>\n",
              "      <th>rh (%)</th>\n",
              "      <th>VPmax (mbar)</th>\n",
              "      <th>VPact (mbar)</th>\n",
              "      <th>VPdef (mbar)</th>\n",
              "      <th>sh (g/kg)</th>\n",
              "      <th>H2OC (mmol/mol)</th>\n",
              "      <th>rho (g/m**3)</th>\n",
              "      <th>wv (m/s)</th>\n",
              "      <th>max. wv (m/s)</th>\n",
              "      <th>wd (deg)</th>\n",
              "    </tr>\n",
              "  </thead>\n",
              "  <tbody>\n",
              "    <tr>\n",
              "      <th>0</th>\n",
              "      <td>01.01.2009 00:10:00</td>\n",
              "      <td>996.52</td>\n",
              "      <td>-8.02</td>\n",
              "      <td>265.40</td>\n",
              "      <td>-8.90</td>\n",
              "      <td>93.3</td>\n",
              "      <td>3.33</td>\n",
              "      <td>3.11</td>\n",
              "      <td>0.22</td>\n",
              "      <td>1.94</td>\n",
              "      <td>3.12</td>\n",
              "      <td>1307.75</td>\n",
              "      <td>1.03</td>\n",
              "      <td>1.75</td>\n",
              "      <td>152.3</td>\n",
              "    </tr>\n",
              "    <tr>\n",
              "      <th>1</th>\n",
              "      <td>01.01.2009 00:20:00</td>\n",
              "      <td>996.57</td>\n",
              "      <td>-8.41</td>\n",
              "      <td>265.01</td>\n",
              "      <td>-9.28</td>\n",
              "      <td>93.4</td>\n",
              "      <td>3.23</td>\n",
              "      <td>3.02</td>\n",
              "      <td>0.21</td>\n",
              "      <td>1.89</td>\n",
              "      <td>3.03</td>\n",
              "      <td>1309.80</td>\n",
              "      <td>0.72</td>\n",
              "      <td>1.50</td>\n",
              "      <td>136.1</td>\n",
              "    </tr>\n",
              "    <tr>\n",
              "      <th>2</th>\n",
              "      <td>01.01.2009 00:30:00</td>\n",
              "      <td>996.53</td>\n",
              "      <td>-8.51</td>\n",
              "      <td>264.91</td>\n",
              "      <td>-9.31</td>\n",
              "      <td>93.9</td>\n",
              "      <td>3.21</td>\n",
              "      <td>3.01</td>\n",
              "      <td>0.20</td>\n",
              "      <td>1.88</td>\n",
              "      <td>3.02</td>\n",
              "      <td>1310.24</td>\n",
              "      <td>0.19</td>\n",
              "      <td>0.63</td>\n",
              "      <td>171.6</td>\n",
              "    </tr>\n",
              "    <tr>\n",
              "      <th>3</th>\n",
              "      <td>01.01.2009 00:40:00</td>\n",
              "      <td>996.51</td>\n",
              "      <td>-8.31</td>\n",
              "      <td>265.12</td>\n",
              "      <td>-9.07</td>\n",
              "      <td>94.2</td>\n",
              "      <td>3.26</td>\n",
              "      <td>3.07</td>\n",
              "      <td>0.19</td>\n",
              "      <td>1.92</td>\n",
              "      <td>3.08</td>\n",
              "      <td>1309.19</td>\n",
              "      <td>0.34</td>\n",
              "      <td>0.50</td>\n",
              "      <td>198.0</td>\n",
              "    </tr>\n",
              "    <tr>\n",
              "      <th>4</th>\n",
              "      <td>01.01.2009 00:50:00</td>\n",
              "      <td>996.51</td>\n",
              "      <td>-8.27</td>\n",
              "      <td>265.15</td>\n",
              "      <td>-9.04</td>\n",
              "      <td>94.1</td>\n",
              "      <td>3.27</td>\n",
              "      <td>3.08</td>\n",
              "      <td>0.19</td>\n",
              "      <td>1.92</td>\n",
              "      <td>3.09</td>\n",
              "      <td>1309.00</td>\n",
              "      <td>0.32</td>\n",
              "      <td>0.63</td>\n",
              "      <td>214.3</td>\n",
              "    </tr>\n",
              "  </tbody>\n",
              "</table>\n",
              "</div>"
            ],
            "text/plain": [
              "             Date Time  p (mbar)  T (degC)  ...  wv (m/s)  max. wv (m/s)  wd (deg)\n",
              "0  01.01.2009 00:10:00    996.52     -8.02  ...      1.03           1.75     152.3\n",
              "1  01.01.2009 00:20:00    996.57     -8.41  ...      0.72           1.50     136.1\n",
              "2  01.01.2009 00:30:00    996.53     -8.51  ...      0.19           0.63     171.6\n",
              "3  01.01.2009 00:40:00    996.51     -8.31  ...      0.34           0.50     198.0\n",
              "4  01.01.2009 00:50:00    996.51     -8.27  ...      0.32           0.63     214.3\n",
              "\n",
              "[5 rows x 15 columns]"
            ]
          },
          "metadata": {
            "tags": []
          },
          "execution_count": 6
        }
      ]
    },
    {
      "cell_type": "markdown",
      "metadata": {
        "id": "swy1dxpxWAUl",
        "colab_type": "text"
      },
      "source": [
        "Vamos a trabajar primeramente con una serie temporal univariada, así que solamente usaremos las variaciones de temperatura."
      ]
    },
    {
      "cell_type": "code",
      "metadata": {
        "id": "q9MRHGubVK7o",
        "colab_type": "code",
        "colab": {
          "base_uri": "https://localhost:8080/",
          "height": 134
        },
        "outputId": "4e7ce04d-3314-4fde-8a65-1fc347487b26"
      },
      "source": [
        "temperatura = df['T (degC)']\n",
        "temperatura.index = df['Date Time']\n",
        "temperatura.head()"
      ],
      "execution_count": 7,
      "outputs": [
        {
          "output_type": "execute_result",
          "data": {
            "text/plain": [
              "Date Time\n",
              "01.01.2009 00:10:00   -8.02\n",
              "01.01.2009 00:20:00   -8.41\n",
              "01.01.2009 00:30:00   -8.51\n",
              "01.01.2009 00:40:00   -8.31\n",
              "01.01.2009 00:50:00   -8.27\n",
              "Name: T (degC), dtype: float64"
            ]
          },
          "metadata": {
            "tags": []
          },
          "execution_count": 7
        }
      ]
    },
    {
      "cell_type": "markdown",
      "metadata": {
        "id": "BIQTmHbUW-Xc",
        "colab_type": "text"
      },
      "source": [
        "Dividimos los datos en entrenamiento y validación"
      ]
    },
    {
      "cell_type": "code",
      "metadata": {
        "id": "gNK-jsmWWdK0",
        "colab_type": "code",
        "colab": {}
      },
      "source": [
        "TRAIN_SPLIT = 300000\n",
        "#para poder reproducir los resultados \n",
        "tf.random.set_seed(13)\n",
        "\n",
        "#variable solo para plotting\n",
        "time_numbers = range(len(temperatura.index))\n",
        "\n",
        "time_train = temperatura.index[:TRAIN_SPLIT]\n",
        "temperatura_train = temperatura.values[:TRAIN_SPLIT]\n",
        "\n",
        "time_valid = temperatura.index[TRAIN_SPLIT:]\n",
        "temperatura_valid = temperatura.values[TRAIN_SPLIT:]"
      ],
      "execution_count": 0,
      "outputs": []
    },
    {
      "cell_type": "code",
      "metadata": {
        "id": "ffUDbn1bbIje",
        "colab_type": "code",
        "colab": {
          "base_uri": "https://localhost:8080/",
          "height": 430
        },
        "outputId": "c018b228-f6d0-458f-cf92-b79f3af4d172"
      },
      "source": [
        "plt.figure(figsize=(10, 6))\n",
        "plt.plot(time_numbers[:TRAIN_SPLIT], temperatura_train)\n",
        "plt.plot(time_numbers[TRAIN_SPLIT:], temperatura_valid)\n",
        "plt.legend(('entrenamiento', 'validación'))\n",
        "plt.show()"
      ],
      "execution_count": 9,
      "outputs": [
        {
          "output_type": "stream",
          "text": [
            "/usr/local/lib/python3.6/dist-packages/IPython/core/pylabtools.py:125: UserWarning: Creating legend with loc=\"best\" can be slow with large amounts of data.\n",
            "  fig.canvas.print_figure(bytes_io, **kw)\n"
          ],
          "name": "stderr"
        },
        {
          "output_type": "display_data",
          "data": {
            "image/png": "[encoded data removed]",
            "text/plain": [
              "<Figure size 720x432 with 1 Axes>"
            ]
          },
          "metadata": {
            "tags": []
          }
        }
      ]
    },
    {
      "cell_type": "markdown",
      "metadata": {
        "id": "Czqmf9g5funk",
        "colab_type": "text"
      },
      "source": [
        "Vamos a estandarizar los datos para que nuestra red neuronal tenga un mejor performance. $$Datos\\_estandarizados = (datos - mean(train\\_data))/std(train\\_data)$$"
      ]
    },
    {
      "cell_type": "code",
      "metadata": {
        "id": "aEl4CCThbzMU",
        "colab_type": "code",
        "colab": {}
      },
      "source": [
        "temp_train_mean = np.mean(temperatura_train)\n",
        "temp_train_std = np.std(temperatura_train)\n",
        "\n",
        "temp_estandarizada = (temperatura.values - temp_train_mean)/temp_train_std"
      ],
      "execution_count": 0,
      "outputs": []
    },
    {
      "cell_type": "markdown",
      "metadata": {
        "id": "YKHibfKPAU_H",
        "colab_type": "text"
      },
      "source": [
        "Preparamos los datos de entrenamiento para que podamos utilizarlo de manera adecuada en nuestra red que crearemos en tensorflow. Para ello, dividiremos los datos en ventanas de 20 valores, y el valor a predecir será el 21avo"
      ]
    },
    {
      "cell_type": "code",
      "metadata": {
        "id": "5ebsszfPgKb3",
        "colab_type": "code",
        "colab": {}
      },
      "source": [
        "WINDOW_SIZE = 20 #ventana en la que miraremos nuestros datos al pasado\n",
        "BATCH_SIZE = 256\n",
        "BUFFER_SIZE = 10000\n",
        "\n",
        "dataset = tf.data.Dataset.from_tensor_slices(temperatura_train)\n",
        "dataset = dataset.window(WINDOW_SIZE + 1, shift=1, drop_remainder=True)\n",
        "dataset = dataset.flat_map(lambda window: window.batch(WINDOW_SIZE + 1))\n",
        "dataset = dataset.shuffle(BUFFER_SIZE).map(lambda window: (window[:-1], window[-1]))"
      ],
      "execution_count": 0,
      "outputs": []
    },
    {
      "cell_type": "code",
      "metadata": {
        "id": "ZMKajWfFjp7p",
        "colab_type": "code",
        "colab": {
          "base_uri": "https://localhost:8080/",
          "height": 70
        },
        "outputId": "6de3592e-18cd-4df9-ea1a-7ef7a9cc5bd6"
      },
      "source": [
        "for x, y in dataset.take(1):\n",
        "  print('ventana:', x.numpy(), \" ---> label:\", y.numpy())"
      ],
      "execution_count": 12,
      "outputs": [
        {
          "output_type": "stream",
          "text": [
            "ventana: [-0.1  -0.04  0.    0.03  0.05  0.12  0.12 -0.04 -0.02  0.08 -0.05 -0.17\n",
            " -0.14 -0.01 -0.04 -0.13 -0.01  0.01  0.16 -0.09]  ---> label: -0.26\n"
          ],
          "name": "stdout"
        }
      ]
    },
    {
      "cell_type": "markdown",
      "metadata": {
        "id": "l_ecFn1eYNbY",
        "colab_type": "text"
      },
      "source": [
        "Todo bien hasta entonces, creé unos datos cuya ventana son de 20, y el valor a predecir es el siguiente (el 21), sin embargo no sabía que onda  con el batching (porque la documentación de tf no está tan chida) entonces encontré [esta respuesta de stackoverflow](https://stackoverflow.com/questions/41175401/what-is-a-batch-in-tensorflow) y me ayudó a entender que el batching es un parámetro que nos permite \"paralelizar\" el entrenamiento"
      ]
    },
    {
      "cell_type": "code",
      "metadata": {
        "id": "HO1gS3pkSU4P",
        "colab_type": "code",
        "colab": {}
      },
      "source": [
        "dataset = dataset.batch(BATCH_SIZE).prefetch(1).repeat()"
      ],
      "execution_count": 0,
      "outputs": []
    },
    {
      "cell_type": "markdown",
      "metadata": {
        "id": "7e61-I7ycnUd",
        "colab_type": "text"
      },
      "source": [
        "Ahora bien, para saber bien que está pasando, pues básicamente nos está agrupando los datos en batches (_lotes_) de a 256, con elementos de 20. En otras palabras nos agrupa el dataset en grupos que contienen 256 ventanas (20 elementos).\n",
        "\n"
      ]
    },
    {
      "cell_type": "code",
      "metadata": {
        "id": "Vu1MGYJmcoc9",
        "colab_type": "code",
        "colab": {
          "base_uri": "https://localhost:8080/",
          "height": 104
        },
        "outputId": "eade57d8-8147-4a94-9a1f-634e24a76986"
      },
      "source": [
        "for x, y in dataset.take(1):\n",
        "  print(x.numpy().shape, y.numpy().shape)#tamaño después del batching\n",
        "  print(x[0].numpy(), y[0].numpy())#veerifico la estructura del primer elemento\n",
        "  print(x[0, 19].numpy, y[0].numpy())#igual, verifico el último elemento de la primera ventana y veo que es similar al valor a predecir.\n"
      ],
      "execution_count": 14,
      "outputs": [
        {
          "output_type": "stream",
          "text": [
            "(256, 20) (256,)\n",
            "[-3.84 -3.88 -3.67 -3.3  -3.34 -3.24 -3.15 -3.07 -2.93 -2.78 -2.76 -2.76\n",
            " -2.76 -2.71 -2.67 -2.69 -2.7  -2.64 -2.58 -2.46] -2.33\n",
            "<bound method _EagerTensorBase.numpy of <tf.Tensor: shape=(), dtype=float64, numpy=-2.46>> -2.33\n"
          ],
          "name": "stdout"
        }
      ]
    },
    {
      "cell_type": "markdown",
      "metadata": {
        "id": "DilkDWjwAyRX",
        "colab_type": "text"
      },
      "source": [
        "Igual, preparamos los datos de validación casi de la misma forma. (excepto lo de revolver \"shuffle\")"
      ]
    },
    {
      "cell_type": "code",
      "metadata": {
        "id": "v-pPlUBRP6wc",
        "colab_type": "code",
        "colab": {}
      },
      "source": [
        "WINDOW_SIZE = 20 #ventana en la que miraremos nuestros datos al pasado\n",
        "BATCH_SIZE = 256\n",
        "BUFFER_SIZE = 10000\n",
        "\n",
        "dataset_val = tf.data.Dataset.from_tensor_slices(temperatura_valid)\n",
        "dataset_val = dataset_val.window(WINDOW_SIZE + 1, shift=1, drop_remainder=True)\n",
        "dataset_val = dataset_val.flat_map(lambda window: window.batch(WINDOW_SIZE + 1))\n",
        "dataset_val = dataset_val.map(lambda window: (window[:-1], window[-1]))\n",
        "dataset_val = dataset_val.batch(BATCH_SIZE).repeat()"
      ],
      "execution_count": 0,
      "outputs": []
    },
    {
      "cell_type": "code",
      "metadata": {
        "id": "5ZJx58pijxgb",
        "colab_type": "code",
        "colab": {
          "base_uri": "https://localhost:8080/",
          "height": 33
        },
        "outputId": "3a6fa770-d69f-415a-ab3c-8c713ee71ef7"
      },
      "source": [
        "for x, y in dataset_val.take(1):\n",
        "  print(x.numpy().shape, y.numpy().shape)"
      ],
      "execution_count": 16,
      "outputs": [
        {
          "output_type": "stream",
          "text": [
            "(256, 20) (256,)\n"
          ],
          "name": "stdout"
        }
      ]
    },
    {
      "cell_type": "markdown",
      "metadata": {
        "id": "tKInVeUZBREc",
        "colab_type": "text"
      },
      "source": [
        "Definimos la arquitectura de la red, en este caso de:\n",
        "* L1 = 20 entradas\n",
        "* L2 = 8 neuronas\n",
        "* L3 = 1 neurona"
      ]
    },
    {
      "cell_type": "code",
      "metadata": {
        "id": "lQ1whe0eoQWe",
        "colab_type": "code",
        "colab": {}
      },
      "source": [
        "mlp_model = tf.keras.models.Sequential([\n",
        "  tf.keras.layers.Dense(8, input_shape=[WINDOW_SIZE], activation='relu'),\n",
        "  tf.keras.layers.Dense(1)\n",
        "])\n",
        "\n",
        "mlp_model.compile(optimizer='adam', loss='mae')"
      ],
      "execution_count": 0,
      "outputs": []
    },
    {
      "cell_type": "code",
      "metadata": {
        "id": "e6kXDjstHD7Y",
        "colab_type": "code",
        "colab": {
          "base_uri": "https://localhost:8080/",
          "height": 33
        },
        "outputId": "fd2c9c66-9a94-48bf-d7b1-e7cc05209fc4"
      },
      "source": [
        "for x, y in dataset.take(1):\n",
        "  print(mlp_model.predict(x).shape)"
      ],
      "execution_count": 18,
      "outputs": [
        {
          "output_type": "stream",
          "text": [
            "(256, 1)\n"
          ],
          "name": "stdout"
        }
      ]
    },
    {
      "cell_type": "markdown",
      "metadata": {
        "id": "PtPmEhLjBykO",
        "colab_type": "text"
      },
      "source": [
        "Vamos a entrenar al modelo, debido a que el dataset es muy grande (para ahorrar tiempo), cada época correrá con solo 200 pasos, en lugar de utilizar todos los datos de entrenamiento."
      ]
    },
    {
      "cell_type": "code",
      "metadata": {
        "id": "gv74uoQOPfwx",
        "colab_type": "code",
        "colab": {
          "base_uri": "https://localhost:8080/",
          "height": 405
        },
        "outputId": "ded1440e-7ebd-4dc2-8bd4-377e1f7cc83b"
      },
      "source": [
        "EVALUATION_INTERVAL = 200\n",
        "EPOCHS = 10\n",
        "\n",
        "mlp_model.fit(dataset, epochs=EPOCHS, steps_per_epoch=EVALUATION_INTERVAL,\n",
        "              validation_data=dataset_val, validation_steps=50)\n",
        "\n"
      ],
      "execution_count": 19,
      "outputs": [
        {
          "output_type": "stream",
          "text": [
            "Train for 200 steps, validate for 50 steps\n",
            "Epoch 1/10\n",
            "200/200 [==============================] - 8s 38ms/step - loss: 0.5061 - val_loss: 0.2032\n",
            "Epoch 2/10\n",
            "200/200 [==============================] - 7s 35ms/step - loss: 0.3097 - val_loss: 0.1931\n",
            "Epoch 3/10\n",
            "200/200 [==============================] - 7s 35ms/step - loss: 0.2758 - val_loss: 0.1912\n",
            "Epoch 4/10\n",
            "200/200 [==============================] - 7s 35ms/step - loss: 0.2398 - val_loss: 0.1808\n",
            "Epoch 5/10\n",
            "200/200 [==============================] - 7s 34ms/step - loss: 0.2071 - val_loss: 0.1809\n",
            "Epoch 6/10\n",
            "200/200 [==============================] - 7s 34ms/step - loss: 0.2384 - val_loss: 0.1805\n",
            "Epoch 7/10\n",
            "200/200 [==============================] - 7s 35ms/step - loss: 0.2291 - val_loss: 0.1719\n",
            "Epoch 8/10\n",
            "200/200 [==============================] - 7s 35ms/step - loss: 0.2326 - val_loss: 0.1702\n",
            "Epoch 9/10\n",
            "200/200 [==============================] - 7s 37ms/step - loss: 0.2290 - val_loss: 0.1717\n",
            "Epoch 10/10\n",
            "200/200 [==============================] - 7s 34ms/step - loss: 0.2130 - val_loss: 0.1680\n"
          ],
          "name": "stdout"
        },
        {
          "output_type": "execute_result",
          "data": {
            "text/plain": [
              "<tensorflow.python.keras.callbacks.History at 0x7fb55c518358>"
            ]
          },
          "metadata": {
            "tags": []
          },
          "execution_count": 19
        }
      ]
    },
    {
      "cell_type": "code",
      "metadata": {
        "id": "Zdnl4qGHqdCH",
        "colab_type": "code",
        "colab": {
          "base_uri": "https://localhost:8080/",
          "height": 924
        },
        "outputId": "2152fa42-1e55-4fce-a691-93c1a6643cf9"
      },
      "source": [
        "for x, y in dataset_val.take(4):\n",
        "  # print(x[0].numpy(), y[0].numpy())\n",
        "  # print(mlp_model.predict(x)[0])\n",
        "\n",
        "  plt.figure(figsize=(6,3))\n",
        "  plt.plot(x[0].numpy(), '.-', label='Historial')\n",
        "  plt.plot(len(x[0].numpy()), y[0].numpy(), 'go', label='Verdadero futuro')\n",
        "  plt.plot(len(x[0].numpy()), mlp_model.predict(x)[0], 'rx', label='MLP predicción')\n",
        "  plt.legend()\n",
        "  plt.title('comparativa de predicción del modelo con el valor esperdo')\n",
        "  plt.figure()\n"
      ],
      "execution_count": 49,
      "outputs": [
        {
          "output_type": "display_data",
          "data": {
            "image/png": "[encoded data removed]",
            "text/plain": [
              "<Figure size 432x216 with 1 Axes>"
            ]
          },
          "metadata": {
            "tags": []
          }
        },
        {
          "output_type": "display_data",
          "data": {
            "text/plain": [
              "<Figure size 432x288 with 0 Axes>"
            ]
          },
          "metadata": {
            "tags": []
          }
        },
        {
          "output_type": "display_data",
          "data": {
            "image/png": "[encoded data removed]",
            "text/plain": [
              "<Figure size 432x216 with 1 Axes>"
            ]
          },
          "metadata": {
            "tags": []
          }
        },
        {
          "output_type": "display_data",
          "data": {
            "text/plain": [
              "<Figure size 432x288 with 0 Axes>"
            ]
          },
          "metadata": {
            "tags": []
          }
        },
        {
          "output_type": "display_data",
          "data": {
            "image/png": "[encoded data removed]",
            "text/plain": [
              "<Figure size 432x216 with 1 Axes>"
            ]
          },
          "metadata": {
            "tags": []
          }
        },
        {
          "output_type": "display_data",
          "data": {
            "text/plain": [
              "<Figure size 432x288 with 0 Axes>"
            ]
          },
          "metadata": {
            "tags": []
          }
        },
        {
          "output_type": "display_data",
          "data": {
            "image/png": "[encoded data removed]",
            "text/plain": [
              "<Figure size 432x216 with 1 Axes>"
            ]
          },
          "metadata": {
            "tags": []
          }
        },
        {
          "output_type": "display_data",
          "data": {
            "text/plain": [
              "<Figure size 432x288 with 0 Axes>"
            ]
          },
          "metadata": {
            "tags": []
          }
        }
      ]
    }
  ]
}