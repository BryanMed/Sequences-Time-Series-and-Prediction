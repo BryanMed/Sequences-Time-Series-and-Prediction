{
  "nbformat": 4,
  "nbformat_minor": 0,
  "metadata": {
    "colab": {
      "name": "Semana2CrearDataset.ipynb",
      "provenance": [],
      "authorship_tag": "ABX9TyO7iYIX42vGDpGYg05EusPF",
      "include_colab_link": true
    },
    "kernelspec": {
      "name": "python3",
      "display_name": "Python 3"
    },
    "accelerator": "GPU"
  },
  "cells": [
    {
      "cell_type": "markdown",
      "metadata": {
        "id": "view-in-github",
        "colab_type": "text"
      },
      "source": [
        "<a href=\"https://colab.research.google.com/github/BryanMed/Sequences-Time-Series-and-Prediction/blob/master/Semana2CrearDataset.ipynb\" target=\"_parent\"><img src=\"https://colab.research.google.com/assets/colab-badge.svg\" alt=\"Open In Colab\"/></a>"
      ]
    },
    {
      "cell_type": "markdown",
      "metadata": {
        "id": "6HhLr1b6OQ33",
        "colab_type": "text"
      },
      "source": [
        "# Creación del dataset"
      ]
    },
    {
      "cell_type": "markdown",
      "metadata": {
        "id": "8SBFbKA1OcJj",
        "colab_type": "text"
      },
      "source": [
        "En este notebook vamos a ver los pasos para construir nuestro dataset. En el caso de las series temporales utilizaremos una ventana de valores los cuales serán nuestras **features x**, el valor que seguiría de la ventana es llamado **label y** y que corresponde al valor que corresponde a la futura predicción.\n",
        "\n",
        "Sin más, empezamos instalando la versión de tensorflow."
      ]
    },
    {
      "cell_type": "code",
      "metadata": {
        "id": "bTDp-tf1N56W",
        "colab_type": "code",
        "colab": {}
      },
      "source": [
        "!pip install tf-nightly-2.0-preview"
      ],
      "execution_count": 0,
      "outputs": []
    },
    {
      "cell_type": "code",
      "metadata": {
        "id": "oGK0SsfiOCfH",
        "colab_type": "code",
        "colab": {
          "base_uri": "https://localhost:8080/",
          "height": 33
        },
        "outputId": "2bdd33fd-9a33-47cd-de79-d84c4aa6b193"
      },
      "source": [
        "import tensorflow as tf\n",
        "import numpy as np\n",
        "import matplotlib.pyplot as plt\n",
        "\n",
        "print(tf.__version__)"
      ],
      "execution_count": 2,
      "outputs": [
        {
          "output_type": "stream",
          "text": [
            "2.0.0-dev20191002\n"
          ],
          "name": "stdout"
        }
      ]
    },
    {
      "cell_type": "markdown",
      "metadata": {
        "id": "BjZUkL9QP_fV",
        "colab_type": "text"
      },
      "source": [
        "Vamos a crear un dataset a partir de una lista que va del 0 al 9."
      ]
    },
    {
      "cell_type": "code",
      "metadata": {
        "id": "sSx-yjxqP50f",
        "colab_type": "code",
        "colab": {
          "base_uri": "https://localhost:8080/",
          "height": 184
        },
        "outputId": "25d346fb-7d81-4799-b832-22fed5e5c470"
      },
      "source": [
        "dataset = tf.data.Dataset.range(10)\n",
        "for val in dataset:\n",
        "  print(val.numpy())"
      ],
      "execution_count": 7,
      "outputs": [
        {
          "output_type": "stream",
          "text": [
            "0\n",
            "1\n",
            "2\n",
            "3\n",
            "4\n",
            "5\n",
            "6\n",
            "7\n",
            "8\n",
            "9\n"
          ],
          "name": "stdout"
        }
      ]
    },
    {
      "cell_type": "markdown",
      "metadata": {
        "id": "gVNKgL_BRk3R",
        "colab_type": "text"
      },
      "source": [
        "Ahora separaremos los datos en ventanas de 5 valores, recorriendo/avanzando un valor cada vez (shift=1). Es decir, nos dará el valor de los primeros 5 valores(0-4), después (1-5), (2-6), (3-7), (4-8), (5-9), y como ya no se acompletan valores de 5 dado que la serie llega hasta 9, pues el tamaño de las ventanas disminuye (6-9), (7-9), ... "
      ]
    },
    {
      "cell_type": "code",
      "metadata": {
        "id": "QgTU82MCQ7oh",
        "colab_type": "code",
        "colab": {
          "base_uri": "https://localhost:8080/",
          "height": 184
        },
        "outputId": "279df080-9699-4909-e85d-f98fe7f8478a"
      },
      "source": [
        "dataset = tf.data.Dataset.range(10)\n",
        "dataset = dataset.window(5, shift=1)\n",
        "for window_dataset in dataset:\n",
        "  for val in window_dataset:\n",
        "    print(val.numpy(), end=\" \")\n",
        "  print()\n"
      ],
      "execution_count": 9,
      "outputs": [
        {
          "output_type": "stream",
          "text": [
            "0 1 2 3 4 \n",
            "1 2 3 4 5 \n",
            "2 3 4 5 6 \n",
            "3 4 5 6 7 \n",
            "4 5 6 7 8 \n",
            "5 6 7 8 9 \n",
            "6 7 8 9 \n",
            "7 8 9 \n",
            "8 9 \n",
            "9 \n"
          ],
          "name": "stdout"
        }
      ]
    },
    {
      "cell_type": "markdown",
      "metadata": {
        "id": "uXQuOiZFVsgR",
        "colab_type": "text"
      },
      "source": [
        "A nosotros solo son interesan aquellos valores cuya ventana es de tamaño 5, es por ello que utilizaremos el drop_reminder, quedándonos sólamente los de window_size=5."
      ]
    },
    {
      "cell_type": "code",
      "metadata": {
        "id": "1Zqi6dymSrCR",
        "colab_type": "code",
        "colab": {
          "base_uri": "https://localhost:8080/",
          "height": 117
        },
        "outputId": "a8c6e795-945a-4d27-a654-8b8afc051117"
      },
      "source": [
        "dataset = tf.data.Dataset.range(10)\n",
        "dataset = dataset.window(size=5, shift=1, drop_remainder=True)\n",
        "for window_dataset in dataset:\n",
        "  for val in window_dataset:\n",
        "    print(val.numpy(), end=\" \")\n",
        "  print()"
      ],
      "execution_count": 11,
      "outputs": [
        {
          "output_type": "stream",
          "text": [
            "0 1 2 3 4 \n",
            "1 2 3 4 5 \n",
            "2 3 4 5 6 \n",
            "3 4 5 6 7 \n",
            "4 5 6 7 8 \n",
            "5 6 7 8 9 \n"
          ],
          "name": "stdout"
        }
      ]
    },
    {
      "cell_type": "markdown",
      "metadata": {
        "id": "28Q2vBCyW2Nq",
        "colab_type": "text"
      },
      "source": [
        "A tensorflow le gusta que los datos estén en formato numpy"
      ]
    },
    {
      "cell_type": "code",
      "metadata": {
        "id": "1oD45FEuWLGl",
        "colab_type": "code",
        "colab": {
          "base_uri": "https://localhost:8080/",
          "height": 117
        },
        "outputId": "542dcb54-ccd5-4947-8c97-cded2edc703b"
      },
      "source": [
        "dataset = tf.data.Dataset.range(10)\n",
        "dataset = dataset.window(size=5, shift=1, drop_remainder=True)\n",
        "dataset = dataset.flat_map(lambda window: window.batch(5))\n",
        "\n",
        "for window in dataset:\n",
        "  print(window.numpy())"
      ],
      "execution_count": 12,
      "outputs": [
        {
          "output_type": "stream",
          "text": [
            "[0 1 2 3 4]\n",
            "[1 2 3 4 5]\n",
            "[2 3 4 5 6]\n",
            "[3 4 5 6 7]\n",
            "[4 5 6 7 8]\n",
            "[5 6 7 8 9]\n"
          ],
          "name": "stdout"
        }
      ]
    },
    {
      "cell_type": "markdown",
      "metadata": {
        "id": "wrz_tMwiYDxS",
        "colab_type": "text"
      },
      "source": [
        "Ahora separamos los parámetros de los labels, es decir, tomaremos los primeros 4 valores de cada ventana como nuestros datos de entrada, y el último valor de la ventana como el label y.\n",
        "\n",
        "$$[parametros] \\; [label]$$\n"
      ]
    },
    {
      "cell_type": "code",
      "metadata": {
        "id": "y3G_bHBzX-KV",
        "colab_type": "code",
        "colab": {
          "base_uri": "https://localhost:8080/",
          "height": 117
        },
        "outputId": "f8d6550f-13ef-4e7e-dbb4-19fd5e6fc803"
      },
      "source": [
        "dataset = tf.data.Dataset.range(10)\n",
        "dataset = dataset.window(size=5, shift=1, drop_remainder=True)\n",
        "dataset = dataset.flat_map(lambda window: window.batch(5))\n",
        "dataset = dataset.map(lambda window: (window[:-1], window[-1:]))\n",
        "for x, y in dataset:\n",
        "  print(x.numpy(), y.numpy())"
      ],
      "execution_count": 19,
      "outputs": [
        {
          "output_type": "stream",
          "text": [
            "[0 1 2 3] [4]\n",
            "[1 2 3 4] [5]\n",
            "[2 3 4 5] [6]\n",
            "[3 4 5 6] [7]\n",
            "[4 5 6 7] [8]\n",
            "[5 6 7 8] [9]\n"
          ],
          "name": "stdout"
        }
      ]
    },
    {
      "cell_type": "markdown",
      "metadata": {
        "id": "jU1gq8k8b1Bj",
        "colab_type": "text"
      },
      "source": [
        "Para evitar crear una tendencia con valores consecutivos en las ventanas, lo que haremos será darle una \"barajeada\" a los datos (shuffle)."
      ]
    },
    {
      "cell_type": "code",
      "metadata": {
        "id": "ZxnjGu9nZ1Do",
        "colab_type": "code",
        "colab": {
          "base_uri": "https://localhost:8080/",
          "height": 117
        },
        "outputId": "0c54efaa-4683-4dc2-d745-6501290e1d2e"
      },
      "source": [
        "dataset = tf.data.Dataset.range(10)\n",
        "dataset = dataset.window(size=5, shift=1, drop_remainder=True)\n",
        "dataset = dataset.flat_map(lambda window: window.batch(5))\n",
        "dataset = dataset.map(lambda window: (window[:-1], window[-1:]))\n",
        "dataset = dataset.shuffle(buffer_size=10)\n",
        "for x, y in dataset:\n",
        "  print(x.numpy(), y.numpy())\n",
        "\n"
      ],
      "execution_count": 25,
      "outputs": [
        {
          "output_type": "stream",
          "text": [
            "[5 6 7 8] [9]\n",
            "[1 2 3 4] [5]\n",
            "[2 3 4 5] [6]\n",
            "[0 1 2 3] [4]\n",
            "[3 4 5 6] [7]\n",
            "[4 5 6 7] [8]\n"
          ],
          "name": "stdout"
        }
      ]
    },
    {
      "cell_type": "markdown",
      "metadata": {
        "id": "FityypokeIaS",
        "colab_type": "text"
      },
      "source": [
        "Finalmente agruparemos los datos en grupos de dos en dos"
      ]
    },
    {
      "cell_type": "code",
      "metadata": {
        "id": "p8yAS982ddG8",
        "colab_type": "code",
        "colab": {
          "base_uri": "https://localhost:8080/",
          "height": 217
        },
        "outputId": "ab549cf9-93e5-4c9d-d3e4-b2f9e180fd50"
      },
      "source": [
        "dataset = tf.data.Dataset.range(10)\n",
        "dataset = dataset.window(size=5, shift=1, drop_remainder=True)\n",
        "dataset = dataset.flat_map(lambda window: window.batch(5))\n",
        "dataset = dataset.map(lambda window: (window[:-1], window[-1:]))\n",
        "dataset = dataset.shuffle(buffer_size=10)\n",
        "dataset = dataset.batch(2).prefetch(1)\n",
        "for x, y in dataset:\n",
        "  print(\"x = \", x.numpy())\n",
        "  print(\"y = \", y.numpy())\n"
      ],
      "execution_count": 27,
      "outputs": [
        {
          "output_type": "stream",
          "text": [
            "x =  [[4 5 6 7]\n",
            " [3 4 5 6]]\n",
            "y =  [[8]\n",
            " [7]]\n",
            "x =  [[0 1 2 3]\n",
            " [2 3 4 5]]\n",
            "y =  [[4]\n",
            " [6]]\n",
            "x =  [[5 6 7 8]\n",
            " [1 2 3 4]]\n",
            "y =  [[9]\n",
            " [5]]\n"
          ],
          "name": "stdout"
        }
      ]
    },
    {
      "cell_type": "code",
      "metadata": {
        "id": "gL0kG73Leela",
        "colab_type": "code",
        "colab": {}
      },
      "source": [
        ""
      ],
      "execution_count": 0,
      "outputs": []
    }
  ]
}